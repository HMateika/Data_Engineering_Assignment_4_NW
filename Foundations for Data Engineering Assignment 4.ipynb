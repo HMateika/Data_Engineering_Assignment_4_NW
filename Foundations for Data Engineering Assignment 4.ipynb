{
 "cells": [
  {
   "cell_type": "code",
   "execution_count": 11,
   "id": "d7d391be",
   "metadata": {},
   "outputs": [],
   "source": [
    "from random import choice\n",
    "from string import ascii_lowercase\n",
    "import time\n",
    "import pandas as pd\n",
    "import matplotlib.pyplot as plt"
   ]
  },
  {
   "cell_type": "code",
   "execution_count": 2,
   "id": "c8f77c10",
   "metadata": {},
   "outputs": [],
   "source": [
    "chars = ascii_lowercase\n",
    "first = [''.join(choice(chars) for _ in range(50)) for _ in range(200)]\n",
    "second = [''.join(choice(chars) for _ in range(50)) for _ in range(400)]\n",
    "third = [''.join(choice(chars) for _ in range(50)) for _ in range(600)]\n",
    "fourth = [''.join(choice(chars) for _ in range(50)) for _ in range(800)]\n",
    "fifth = [''.join(choice(chars) for _ in range(50)) for _ in range(1000)]\n",
    "combined = [first, second, third, fourth, fifth]\n",
    "combined_copy = combined"
   ]
  },
  {
   "cell_type": "code",
   "execution_count": 3,
   "id": "935f2688",
   "metadata": {},
   "outputs": [],
   "source": [
    "def quicksort(array):\n",
    "  if len(array) < 2:\n",
    "    return array\n",
    "  else:\n",
    "    pivot = array[0]\n",
    "    less = [i for i in array[1:] if i <= pivot]\n",
    "    greater = [i for i in array[1:] if i > pivot]\n",
    "    return quicksort(less) + [pivot] + quicksort(greater)"
   ]
  },
  {
   "cell_type": "code",
   "execution_count": 4,
   "id": "95322614",
   "metadata": {},
   "outputs": [],
   "source": [
    "quicksort_runtime = []\n",
    "for x in combined:\n",
    "    start_time = time.time()\n",
    "    quicksort(x)\n",
    "    end_time = time.time()\n",
    "    runtime = end_time - start_time\n",
    "    quicksort_runtime.append(runtime*1000)\n",
    "    "
   ]
  },
  {
   "cell_type": "code",
   "execution_count": 5,
   "id": "dd2f9e22",
   "metadata": {},
   "outputs": [
    {
     "data": {
      "text/plain": [
       "[0.0,\n",
       " 0.9996891021728516,\n",
       " 1.9984245300292969,\n",
       " 1.9989013671875,\n",
       " 2.997875213623047]"
      ]
     },
     "execution_count": 5,
     "metadata": {},
     "output_type": "execute_result"
    }
   ],
   "source": [
    "quicksort_runtime"
   ]
  },
  {
   "cell_type": "code",
   "execution_count": 6,
   "id": "f50829e4",
   "metadata": {},
   "outputs": [],
   "source": [
    "#Insertion Sort\n",
    "def insertion(array):\n",
    "    for i in range(1, len(array)):\n",
    "        key_item = array[i]\n",
    "        j = i - 1\n",
    "        while j >= 0 and array[j] > key_item:\n",
    "            array[j + 1] = array[j]\n",
    "            j -= 1\n",
    "            array[j + 1] = key_item\n",
    "    return array"
   ]
  },
  {
   "cell_type": "code",
   "execution_count": 7,
   "id": "c1880396",
   "metadata": {},
   "outputs": [],
   "source": [
    "insertion_runtime = []\n",
    "for x in combined:\n",
    "    start_time = time.time()\n",
    "    insertion(x)\n",
    "    end_time = time.time()\n",
    "    runtime = end_time - start_time\n",
    "    insertion_runtime.append(runtime*1000)"
   ]
  },
  {
   "cell_type": "code",
   "execution_count": 8,
   "id": "a1f7733a",
   "metadata": {},
   "outputs": [],
   "source": [
    "#Bubble Sort\n",
    "def bubble(array):\n",
    "    x = len(array)\n",
    "    for y in range(x):\n",
    "        for z in range(x-1):\n",
    "            if array[z] > array[z+1]:\n",
    "                array[z], array[z+1] = array[z+1], array[z]\n",
    "    return array"
   ]
  },
  {
   "cell_type": "code",
   "execution_count": 9,
   "id": "855815e4",
   "metadata": {},
   "outputs": [],
   "source": [
    "bubble_runtime = []\n",
    "for x in combined_copy:\n",
    "    start_time = time.time()\n",
    "    bubble(x)\n",
    "    end_time = time.time()\n",
    "    runtime = end_time - start_time\n",
    "    bubble_runtime.append(runtime*1000)"
   ]
  },
  {
   "cell_type": "code",
   "execution_count": 12,
   "id": "baad0e2a",
   "metadata": {},
   "outputs": [],
   "source": [
    "list_size = []\n",
    "for x in combined:\n",
    "    size = len(x)\n",
    "    list_size.append(size)"
   ]
  },
  {
   "cell_type": "code",
   "execution_count": 15,
   "id": "b614f05e",
   "metadata": {},
   "outputs": [
    {
     "data": {
      "text/html": [
       "<div>\n",
       "<style scoped>\n",
       "    .dataframe tbody tr th:only-of-type {\n",
       "        vertical-align: middle;\n",
       "    }\n",
       "\n",
       "    .dataframe tbody tr th {\n",
       "        vertical-align: top;\n",
       "    }\n",
       "\n",
       "    .dataframe thead th {\n",
       "        text-align: right;\n",
       "    }\n",
       "</style>\n",
       "<table border=\"1\" class=\"dataframe\">\n",
       "  <thead>\n",
       "    <tr style=\"text-align: right;\">\n",
       "      <th></th>\n",
       "      <th>Size</th>\n",
       "      <th>Quicksort Runtime</th>\n",
       "      <th>Insertion Runtime</th>\n",
       "      <th>Bubble Runtime</th>\n",
       "    </tr>\n",
       "  </thead>\n",
       "  <tbody>\n",
       "    <tr>\n",
       "      <th>0</th>\n",
       "      <td>200</td>\n",
       "      <td>0.000000</td>\n",
       "      <td>4.996777</td>\n",
       "      <td>4.996538</td>\n",
       "    </tr>\n",
       "    <tr>\n",
       "      <th>1</th>\n",
       "      <td>400</td>\n",
       "      <td>0.999689</td>\n",
       "      <td>19.988775</td>\n",
       "      <td>24.985313</td>\n",
       "    </tr>\n",
       "    <tr>\n",
       "      <th>2</th>\n",
       "      <td>600</td>\n",
       "      <td>1.998425</td>\n",
       "      <td>32.979488</td>\n",
       "      <td>50.969601</td>\n",
       "    </tr>\n",
       "    <tr>\n",
       "      <th>3</th>\n",
       "      <td>800</td>\n",
       "      <td>1.998901</td>\n",
       "      <td>56.966066</td>\n",
       "      <td>85.948467</td>\n",
       "    </tr>\n",
       "    <tr>\n",
       "      <th>4</th>\n",
       "      <td>1000</td>\n",
       "      <td>2.997875</td>\n",
       "      <td>89.947462</td>\n",
       "      <td>135.919571</td>\n",
       "    </tr>\n",
       "  </tbody>\n",
       "</table>\n",
       "</div>"
      ],
      "text/plain": [
       "   Size  Quicksort Runtime  Insertion Runtime  Bubble Runtime\n",
       "0   200           0.000000           4.996777        4.996538\n",
       "1   400           0.999689          19.988775       24.985313\n",
       "2   600           1.998425          32.979488       50.969601\n",
       "3   800           1.998901          56.966066       85.948467\n",
       "4  1000           2.997875          89.947462      135.919571"
      ]
     },
     "execution_count": 15,
     "metadata": {},
     "output_type": "execute_result"
    }
   ],
   "source": [
    "data = {'Size': list_size, 'Quicksort Runtime': quicksort_runtime, 'Insertion Runtime': insertion_runtime,\n",
    "       'Bubble Runtime': bubble_runtime}\n",
    "df = pd.DataFrame(data)\n",
    "df"
   ]
  },
  {
   "cell_type": "code",
   "execution_count": 17,
   "id": "3dee7895",
   "metadata": {},
   "outputs": [
    {
     "data": {
      "image/png": "[encoded data removed]",
      "text/plain": [
       "<Figure size 1000x1000 with 1 Axes>"
      ]
     },
     "metadata": {
      "needs_background": "light"
     },
     "output_type": "display_data"
    }
   ],
   "source": [
    "plt.figure(figsize=(10, 10), dpi=100)\n",
    "plt.plot(df['Size'], df['Quicksort Runtime'], label = 'Quicksort');\n",
    "plt.plot(df['Size'], df['Insertion Runtime'], label = 'Insertion')\n",
    "plt.plot(df['Size'], df['Bubble Runtime'], label = 'Bubble');\n",
    "plt.legend();"
   ]
  },
  {
   "cell_type": "markdown",
   "id": "0e3361f1",
   "metadata": {},
   "source": [
    "# Executive Summary\n",
    "\n",
    "## For this experiment I created five different unsorted lists of strings each string consisting of 50 characters. The first list had 200 strings, the second 400, the third 600, the fourth 800, and the final one 1000. This experiment was meant to compare the performance of the quicksort sorting algorithm with a couple of its peers (in this case the insertion and bubble algorithm) in milliseconds.\n",
    "\n",
    "## Regarding the results, quicksort crushed its fellow peers. In fact, as the size of the lists increased, the effects were barely registered on the quicksorting algorithm while the other two grew in exponential length (this was especially the case in the bubble sorting algorithm). At the highest size, quicksort sorted the strings in 3 milliseconds while insertion and bubble had a runtime of about 90 and 136 milliseconds respectively. This largely follows the Big O notation since both insertion and bubble typically run at O(n^2) while quicksort runs at O(n*log(n))\n",
    "\n",
    "## What is interesting is that while insertion and bubble have the same Big O notation, Insertion runs at a faster rate. This is clearly due to the fact that insertion has a lower constant than bubble. While quicksort actually can have a Big O notation of O(n^2) in its worst case scenario, it only happens with very large amounts of data and a poor pivot choice. In this case, the pivot was the first string in the list each time, however since the sizes of the data were not that large, the Big O notation largely fell into its average for quicksort.\n",
    "\n",
    "## This experiment is relevant to data engineers since its important to understand what sorting algorithm works best in terms of runtime. Quicksort is leaps and bounds better than the other two in that respect, especially when considering that I used its supposed worst performing pivot. Utilizing this said algorithm, therefore, is tantamount to picking the best way to optimize an application with said functionality."
   ]
  }
 ],
 "metadata": {
  "kernelspec": {
   "display_name": "Python 3 (ipykernel)",
   "language": "python",
   "name": "python3"
  },
  "language_info": {
   "codemirror_mode": {
    "name": "ipython",
    "version": 3
   },
   "file_extension": ".py",
   "mimetype": "text/x-python",
   "name": "python",
   "nbconvert_exporter": "python",
   "pygments_lexer": "ipython3",
   "version": "3.8.5"
  }
 },
 "nbformat": 4,
 "nbformat_minor": 5
}
